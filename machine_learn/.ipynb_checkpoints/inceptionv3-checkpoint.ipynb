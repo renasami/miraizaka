{
 "cells": [
  {
   "cell_type": "code",
   "execution_count": null,
   "id": "19960e68-0f9a-416b-9b9c-49a741e0988a",
   "metadata": {},
   "outputs": [],
   "source": [
    "import torch\n",
    "from torch import nn, optim\n",
    "from torch.utils.data import Dataset, DataLoader, TensorDataset\n",
    "import tqdm\n",
    "from sklearn.model_selection import train_test_split\n",
    "\n",
    "from torchvision import models\n",
    "from torchvision.datasets import ImageFolder\n",
    "from torchvision import transforms\n",
    "\n",
    "# 事前学習済みのresnet18をロード\n",
    "net = models.inception_v3(pretrained=True)\n",
    "\n",
    "# すべてのパラメータを微分対象外にする\n",
    "for p in net.parameters():\n",
    "    p.requires_grad=False\n",
    "    \n",
    "# 最後の線形層を付け替える\n",
    "fc_input_dim = net.fc.in_features\n",
    "net.fc = nn.Linear(fc_input_dim, 20)\n",
    "\n",
    "img = ImageFolder(\n",
    "    \"./face\",\n",
    "    transform=transforms.Compose([\n",
    "      transforms.Resize(299),\n",
    "      transforms.CenterCrop(299),\n",
    "      transforms.ToTensor()]    \n",
    "))\n",
    "\n",
    "train, test = train_test_split(img, test_size=0.3)\n",
    "\n",
    "train_loader = DataLoader(\n",
    "    train,batch_size = 5 , shuffle=True)\n",
    "test_loader = DataLoader(\n",
    "    test,batch_size=5,shuffle=False)\n",
    "print(train_loader)"
   ]
  }
 ],
 "metadata": {
  "kernelspec": {
   "display_name": "Python 3 (ipykernel)",
   "language": "python",
   "name": "python3"
  },
  "language_info": {
   "codemirror_mode": {
    "name": "ipython",
    "version": 3
   },
   "file_extension": ".py",
   "mimetype": "text/x-python",
   "name": "python",
   "nbconvert_exporter": "python",
   "pygments_lexer": "ipython3",
   "version": "3.9.9"
  }
 },
 "nbformat": 4,
 "nbformat_minor": 5
}
