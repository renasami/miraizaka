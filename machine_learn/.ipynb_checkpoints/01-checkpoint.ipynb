{
 "cells": [
  {
   "cell_type": "code",
   "execution_count": null,
   "metadata": {},
   "outputs": [],
   "source": [
    "import torch\n",
    "w_true = torch.tensor([1.0,2.0,3.0])\n",
    "\n",
    "X = torch.cat([torch.ones(100,1),torch.randn(100,2)],1)\n",
    "y = torch.mv(X, w_true) + torch.randn(100) * 0.5\n",
    "\n",
    "w = torch.randn(3,requires_grad=True)\n",
    "gamma = 0.1\n",
    "\n",
    "losses = []\n",
    "\n",
    "for epoc in range(100):\n",
    "    w.grad = None\n",
    "    y_pred = torch.mv(X,w)\n",
    "    loxxx = torch.mean((y - y_pred)**2)\n",
    "    loxxx.backward()\n",
    "    w.data = w.data - gamma * w.grad.data\n",
    "    losses.append(loxxx.item())\n",
    "\n",
    "from matplotlib import pyplot as plt\n",
    "plt.plot(losses)"
   ]
  }
 ],
 "metadata": {
  "language_info": {
   "name": "python"
  },
  "orig_nbformat": 4
 },
 "nbformat": 4,
 "nbformat_minor": 2
}
