{
 "cells": [
  {
   "cell_type": "code",
   "execution_count": null,
   "metadata": {},
   "outputs": [],
   "source": [
    "import torch\n",
    "from torch import nn\n",
    "net = nn.Sequential(\n",
    "    nn.Linear(64,32),\n",
    "    nn.ReLU(),\n",
    "    nn.Linear(32,16),\n",
    "    nn.ReLU(),\n",
    "    nn.Linear(16,10)\n",
    ")\n",
    "print(net)\n",
    "from torch import optim\n",
    "from sklearn.datasets import load_digits\n",
    "digits = load_digits()\n",
    "\n",
    "x = digits.data\n",
    "y = digits.target\n",
    "#numpyをtorchに変換\n",
    "X = torch.tensor(x, dtype=torch.float32)\n",
    "Y = torch.tensor(y, dtype=torch.int64)\n",
    "#ソフトマックスエントロピー\n",
    "loss_fn = nn.CrossEntropyLoss()\n",
    "\n",
    "optimizer = optim.Adam(net.parameters())\n",
    "\n",
    "losses = []\n",
    "\n",
    "for epoc in range(1000):\n",
    "    optimizer.zero_grad()\n",
    "    y_pred = net(X)\n",
    "    loss = loss_fn(y_pred, Y)\n",
    "    loss.backward()\n",
    "    optimizer.step()\n",
    "    losses.append(loss.item())\n",
    "\n",
    "from matplotlib import pyplot as plt\n",
    "plt.plot(losses)"
   ]
  }
 ],
 "metadata": {
  "language_info": {
   "name": "python"
  },
  "orig_nbformat": 4
 },
 "nbformat": 4,
 "nbformat_minor": 2
}
